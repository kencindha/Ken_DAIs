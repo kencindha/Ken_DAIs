{
 "cells": [
  {
   "cell_type": "code",
   "execution_count": 23,
   "metadata": {},
   "outputs": [],
   "source": [
    "import pandas as pd"
   ]
  },
  {
   "cell_type": "code",
   "execution_count": 24,
   "metadata": {},
   "outputs": [],
   "source": [
    "ship_types = {\n",
    "    '00-09': 'Passenger',\n",
    "    '10-19': 'Cargo ',\n",
    "    '20-29': 'Tankers',\n",
    "    '30-39': 'Fishing',\n",
    "    '40-49': 'High-speed craft',\n",
    "    '50-59': 'Pilot',\n",
    "    '60-69': 'Search and rescue vessels',\n",
    "    '70-79': 'Tugs',\n",
    "    '80-89': 'Sailing',\n",
    "    '90-99': 'Other types of vessels'\n",
    "}"
   ]
  },
  {
   "cell_type": "code",
   "execution_count": 25,
   "metadata": {},
   "outputs": [],
   "source": [
    "df = pd.read_csv('DATA AIS.csv')"
   ]
  },
  {
   "cell_type": "code",
   "execution_count": 26,
   "metadata": {},
   "outputs": [],
   "source": [
    "def get_ship_type(mmsi):\n",
    "    mmsi_str = str(mmsi)\n",
    "    sid = mmsi_str[3:5]\n",
    "    for key, value in ship_types.items():\n",
    "        if sid in key:\n",
    "            return value\n",
    "    return 'Unknown ship type'"
   ]
  },
  {
   "cell_type": "code",
   "execution_count": 27,
   "metadata": {},
   "outputs": [],
   "source": [
    "df['Ship_Type'] = df['MMSI'].apply(get_ship_type)"
   ]
  },
  {
   "cell_type": "code",
   "execution_count": 28,
   "metadata": {},
   "outputs": [
    {
     "name": "stdout",
     "output_type": "stream",
     "text": [
      "          MMSI   Longitude    Latitude          Ship_Type\n",
      "0    200000000   13.951118  108.567617          Passenger\n",
      "1    210718000  112.721900   -7.201667  Unknown ship type\n",
      "2    215390000  112.653733   -7.087883            Fishing\n",
      "3    312256000   52.178768   -6.947093  Unknown ship type\n",
      "4    352401408   51.920315   -4.873445   High-speed craft\n",
      "..         ...         ...         ...                ...\n",
      "506  525000265   14.004558  108.494688          Passenger\n",
      "507  525000360  112.740843   -7.202142          Passenger\n",
      "508  525000369   13.919998  108.780310          Passenger\n",
      "509  525000653   57.238288  -13.532493          Passenger\n",
      "510  525001047  112.729698   -7.207488          Passenger\n",
      "\n",
      "[511 rows x 4 columns]\n"
     ]
    }
   ],
   "source": [
    "print(df)"
   ]
  },
  {
   "cell_type": "code",
   "execution_count": 29,
   "metadata": {},
   "outputs": [],
   "source": [
    "file_bro = 'final bro_plotting.csv'\n",
    "df.to_csv(file_bro, index=False)"
   ]
  },
  {
   "cell_type": "code",
   "execution_count": null,
   "metadata": {},
   "outputs": [],
   "source": []
  }
 ],
 "metadata": {
  "kernelspec": {
   "display_name": "Python 3",
   "language": "python",
   "name": "python3"
  },
  "language_info": {
   "codemirror_mode": {
    "name": "ipython",
    "version": 3
   },
   "file_extension": ".py",
   "mimetype": "text/x-python",
   "name": "python",
   "nbconvert_exporter": "python",
   "pygments_lexer": "ipython3",
   "version": "3.12.3"
  }
 },
 "nbformat": 4,
 "nbformat_minor": 2
}
