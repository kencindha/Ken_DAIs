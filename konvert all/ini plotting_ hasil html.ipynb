{
 "cells": [
  {
   "cell_type": "code",
   "execution_count": 2,
   "metadata": {},
   "outputs": [],
   "source": [
    "import pandas as pd\n",
    "import folium"
   ]
  },
  {
   "cell_type": "code",
   "execution_count": 11,
   "metadata": {},
   "outputs": [],
   "source": [
    "df = pd.read_csv('bro_plotting.csv')"
   ]
  },
  {
   "cell_type": "code",
   "execution_count": 4,
   "metadata": {},
   "outputs": [],
   "source": [
    "map = folium.Map(location=[-7.5, 113.0], zoom_start=10)"
   ]
  },
  {
   "cell_type": "code",
   "execution_count": 6,
   "metadata": {},
   "outputs": [],
   "source": [
    "for index, row in df.iterrows():\n",
    "    lat = row['Latitude']\n",
    "    lon = row['Longitude']\n",
    "    mmsi = row['MMSI']\n",
    "    folium.Marker(location=[lat, lon], popup=f\"MMSI: {mmsi}\").add_to(map)"
   ]
  },
  {
   "cell_type": "code",
   "execution_count": 19,
   "metadata": {},
   "outputs": [],
   "source": [
    "colors = {\n",
    "    'Cargo': 'blue',\n",
    "    'Passenger': 'red',\n",
    "    'Tanker': 'green',\n",
    "    'Other': 'gray'\n",
    "}"
   ]
  },
  {
   "cell_type": "code",
   "execution_count": 20,
   "metadata": {},
   "outputs": [],
   "source": [
    "icons = {\n",
    "    'Cargo': 'fa-truck',\n",
    "    'Passenger': 'fa-bus',\n",
    "    'Tanker': 'fa-oil-can',\n",
    "    'Other': 'fa-ship'\n",
    "}"
   ]
  },
  {
   "cell_type": "code",
   "execution_count": 22,
   "metadata": {},
   "outputs": [],
   "source": [
    "for index, row in df.iterrows():\n",
    "    lat = row['Latitude']\n",
    "    lon = row['Longitude']\n",
    "    mmsi = row['MMSI']\n",
    "    ship_type = row['Ship Type']\n",
    "    color = colors.get(ship_type, 'gray')\n",
    "    icon = icons.get(ship_type, 'fa-ship')\n",
    "    marker = folium.Marker(location=[lat, lon],\n",
    "                           popup=f\"MMSI: {mmsi} - {ship_type}\",\n",
    "                           icon=folium.Icon(color=color, icon=icon))\n",
    "    marker.add_to(map)"
   ]
  },
  {
   "cell_type": "code",
   "execution_count": 23,
   "metadata": {},
   "outputs": [],
   "source": [
    "map.save(\"selat_madura_masBroku.html\")"
   ]
  },
  {
   "cell_type": "code",
   "execution_count": null,
   "metadata": {},
   "outputs": [],
   "source": []
  }
 ],
 "metadata": {
  "kernelspec": {
   "display_name": "Python 3",
   "language": "python",
   "name": "python3"
  },
  "language_info": {
   "codemirror_mode": {
    "name": "ipython",
    "version": 3
   },
   "file_extension": ".py",
   "mimetype": "text/x-python",
   "name": "python",
   "nbconvert_exporter": "python",
   "pygments_lexer": "ipython3",
   "version": "3.12.3"
  }
 },
 "nbformat": 4,
 "nbformat_minor": 2
}
